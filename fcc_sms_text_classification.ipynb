{
  "nbformat": 4,
  "nbformat_minor": 0,
  "metadata": {
    "colab": {
      "name": "fcc_sms_text_classification.ipynb",
      "private_outputs": true,
      "provenance": [],
      "collapsed_sections": [],
      "toc_visible": true
    },
    "kernelspec": {
      "display_name": "Python 3",
      "name": "python3"
    }
  },
  "cells": [
    {
      "cell_type": "markdown",
      "metadata": {
        "id": "Eg62Pmz3o83v"
      },
      "source": [
        "*Note: You are currently reading this using Google Colaboratory which is a cloud-hosted version of Jupyter Notebook. This is a document containing both text cells for documentation and runnable code cells. If you are unfamiliar with Jupyter Notebook, watch this 3-minute introduction before starting this challenge: https://www.youtube.com/watch?v=inN8seMm7UI*\n",
        "\n",
        "---\n",
        "\n",
        "In this challenge, you need to create a machine learning model that will classify SMS messages as either \"ham\" or \"spam\". A \"ham\" message is a normal message sent by a friend. A \"spam\" message is an advertisement or a message sent by a company.\n",
        "\n",
        "You should create a function called `predict_message` that takes a message string as an argument and returns a list. The first element in the list should be a number between zero and one that indicates the likeliness of \"ham\" (0) or \"spam\" (1). The second element in the list should be the word \"ham\" or \"spam\", depending on which is most likely.\n",
        "\n",
        "For this challenge, you will use the [SMS Spam Collection dataset](http://www.dt.fee.unicamp.br/~tiago/smsspamcollection/). The dataset has already been grouped into train data and test data.\n",
        "\n",
        "The first two cells import the libraries and data. The final cell tests your model and function. Add your code in between these cells.\n"
      ]
    },
    {
      "cell_type": "code",
      "metadata": {
        "id": "8RZOuS9LWQvv"
      },
      "source": [
        "# import libraries\n",
        "try:\n",
        "  # %tensorflow_version only exists in Colab.\n",
        "  !pip install tf-nightly\n",
        "except Exception:\n",
        "  pass\n",
        "import tensorflow as tf\n",
        "import pandas as pd\n",
        "from tensorflow import keras\n",
        "!pip install tensorflow-datasets\n",
        "import tensorflow_datasets as tfds\n",
        "import numpy as np\n",
        "import matplotlib.pyplot as plt\n",
        "from wordcloud import WordCloud\n",
        "import nltk\n",
        "from nltk import word_tokenize\n",
        "nltk.download('punkt')\n",
        "import string\n",
        "from nltk.corpus import stopwords\n",
        "nltk.download('stopwords')\n",
        "from sklearn.feature_extraction.text import CountVectorizer\n",
        "from sklearn.feature_extraction.text import TfidfTransformer\n",
        "from sklearn.model_selection import train_test_split\n",
        "from sklearn.ensemble import RandomForestClassifier\n",
        "from xgboost import XGBRegressor\n",
        "from sklearn.metrics import classification_report, confusion_matrix, accuracy_score\n",
        "from sklearn.model_selection import GridSearchCV\n",
        "from sklearn.svm import SVC\n",
        "\n",
        "print(tf.__version__)"
      ],
      "execution_count": null,
      "outputs": []
    },
    {
      "cell_type": "code",
      "metadata": {
        "id": "lMHwYXHXCar3"
      },
      "source": [
        "# get data files\n",
        "!wget https://cdn.freecodecamp.org/project-data/sms/train-data.tsv\n",
        "!wget https://cdn.freecodecamp.org/project-data/sms/valid-data.tsv\n",
        "\n",
        "train_file_path = \"train-data.tsv\"\n",
        "test_file_path = \"valid-data.tsv\""
      ],
      "execution_count": null,
      "outputs": []
    },
    {
      "cell_type": "markdown",
      "metadata": {
        "id": "dVX9HTHdyWiq"
      },
      "source": [
        "Read data into pandas' dataframes"
      ]
    },
    {
      "cell_type": "code",
      "metadata": {
        "id": "g_h508FEClxO"
      },
      "source": [
        "df_train = pd.read_csv(train_file_path, sep='\\t', header=None, names=['label', 'message'])\n",
        "df_test = pd.read_csv(test_file_path, sep='\\t', header=None, names=['label', 'message'])\n",
        "df_test.head()"
      ],
      "execution_count": null,
      "outputs": []
    },
    {
      "cell_type": "markdown",
      "metadata": {
        "id": "_ZrfZkHlqTUL"
      },
      "source": [
        "Convert labels to categorical data and replace text with code values"
      ]
    },
    {
      "cell_type": "code",
      "metadata": {
        "id": "9clH9S0ZqTAI"
      },
      "source": [
        "df_train['label'] = df_train['label'].astype('category').cat.codes\n",
        "df_test['label'] = df_test['label'].astype('category').cat.codes"
      ],
      "execution_count": null,
      "outputs": []
    },
    {
      "cell_type": "markdown",
      "metadata": {
        "id": "Bu1kFe-kvgE5"
      },
      "source": [
        "Split data into labels and features"
      ]
    },
    {
      "cell_type": "code",
      "metadata": {
        "id": "fp6CkB5JvmNk"
      },
      "source": [
        "train_features = df_train.copy()\n",
        "test_features = df_test.copy()\n",
        "train_labels = train_features.pop('label')\n",
        "test_labels = test_features.pop('label')"
      ],
      "execution_count": null,
      "outputs": []
    },
    {
      "cell_type": "markdown",
      "metadata": {
        "id": "fTWgoPBjNTNq"
      },
      "source": [
        "Analyse dataset"
      ]
    },
    {
      "cell_type": "code",
      "metadata": {
        "id": "FckaRHZmOSO3"
      },
      "source": [
        "# Draw histogram showing number of 'ham' and 'spam' messages\n",
        "df_train['label'].value_counts().plot.bar();"
      ],
      "execution_count": null,
      "outputs": []
    },
    {
      "cell_type": "code",
      "metadata": {
        "id": "8k5R36K0NXTI"
      },
      "source": [
        "# Draw histogram showing length of 'ham' and 'spam' messages\n",
        "df_len = pd.DataFrame(df_train)\n",
        "df_len['length'] = df_len['message'].apply(len)\n",
        "df_len.hist(column='length', by='label', bins=range(0, 1000, 10), figsize=(12,4));"
      ],
      "execution_count": null,
      "outputs": []
    },
    {
      "cell_type": "code",
      "metadata": {
        "id": "zOMKywn4zReN"
      },
      "source": [
        "# Draw WordCloud for 'ham' words\n",
        "ham_words = ' '.join(list(df_train[df_train['label'] == 0]['message']))\n",
        "ham_wc = WordCloud(width=512, height=512).generate(ham_words)\n",
        "plt.figure(figsize=(10,6), facecolor='k')\n",
        "plt.imshow(ham_wc)\n",
        "plt.axis('off')\n",
        "plt.tight_layout(pad=0)\n",
        "plt.show()"
      ],
      "execution_count": null,
      "outputs": []
    },
    {
      "cell_type": "code",
      "metadata": {
        "id": "iBnrUTaszrJp"
      },
      "source": [
        "# Draw WordCloud for 'spam' words\n",
        "spam_words = ' '.join(list(df_train[df_train['label'] == 1]['message']))\n",
        "spam_wc = WordCloud(width=512, height=512).generate(spam_words)\n",
        "plt.figure(figsize=(10,6), facecolor='k')\n",
        "plt.imshow(spam_wc)\n",
        "plt.axis('off')\n",
        "plt.tight_layout(pad=0)\n",
        "plt.show()"
      ],
      "execution_count": null,
      "outputs": []
    },
    {
      "cell_type": "markdown",
      "metadata": {
        "id": "OiL0QzS6vji2"
      },
      "source": [
        "Preprocess data"
      ]
    },
    {
      "cell_type": "code",
      "metadata": {
        "id": "ATgJ_UNpvlFP"
      },
      "source": [
        "# Define function for message processing\n",
        "def process_message(msg):\n",
        "  # Make everything lowercase and skip punctuation characters\n",
        "  msg = ''.join(char for char in msg.lower() if char not in set(string.punctuation))\n",
        "  # Tokenize message but skip stopwords like 'the', 'a', etc.\n",
        "  word_list = [word for word in word_tokenize(msg) if word not in stopwords.words('english')]\n",
        "  return word_list"
      ],
      "execution_count": null,
      "outputs": []
    },
    {
      "cell_type": "markdown",
      "metadata": {
        "id": "RdNG9FrIOT5J"
      },
      "source": [
        "Create bag-of-words transformer"
      ]
    },
    {
      "cell_type": "code",
      "metadata": {
        "id": "P4x_bE17J_m8"
      },
      "source": [
        "# Concatenate train and test data\n",
        "data_features = pd.concat([train_features, test_features])\n",
        "data_labels = pd.concat([train_labels, test_labels])\n",
        "# Create bag-of-words transformer that keeps vocabulary with all words\n",
        "bow_transformer = CountVectorizer(analyzer=process_message).fit(data_features['message'])\n",
        "# Print number of words in vocabulary\n",
        "print(len(bow_transformer.vocabulary_))"
      ],
      "execution_count": null,
      "outputs": []
    },
    {
      "cell_type": "markdown",
      "metadata": {
        "id": "7rZ-gpHEDtiS"
      },
      "source": [
        "Vectorize a message using a bag-of-words transformer"
      ]
    },
    {
      "cell_type": "code",
      "metadata": {
        "id": "ssEVFPNGAl3Z"
      },
      "source": [
        "sample_msg = train_features['message'][0]\n",
        "bow_sample_msg = bow_transformer.transform([sample_msg])\n",
        "print(sample_msg)\n",
        "print(bow_sample_msg)"
      ],
      "execution_count": null,
      "outputs": []
    },
    {
      "cell_type": "markdown",
      "metadata": {
        "id": "mJScqDyzvydj"
      },
      "source": [
        "Apply bag-of-words transformer to all messages"
      ]
    },
    {
      "cell_type": "code",
      "metadata": {
        "id": "_WCbAeK-vxJX"
      },
      "source": [
        "bow_data = bow_transformer.transform(data_features['message'])\n",
        "print(bow_data.shape)"
      ],
      "execution_count": null,
      "outputs": []
    },
    {
      "cell_type": "markdown",
      "metadata": {
        "id": "o4wqdFlhRj7P"
      },
      "source": [
        "Percentage of non-zero entries to the matrix size"
      ]
    },
    {
      "cell_type": "code",
      "metadata": {
        "id": "4cDnw9cnRgbD"
      },
      "source": [
        "print(bow_data.nnz / (bow_data.shape[0] * bow_data.shape[1]) *100)"
      ],
      "execution_count": null,
      "outputs": []
    },
    {
      "cell_type": "markdown",
      "metadata": {
        "id": "F_taxZqG7RWx"
      },
      "source": [
        "Use TF-IDF (Term Frequency times Inverse Document Frequency) transformer to account for the total number of words in each document and to downscale weights for words that occur in many documents"
      ]
    },
    {
      "cell_type": "code",
      "metadata": {
        "id": "rAKKKjsm6is9"
      },
      "source": [
        "tfidf_transformer = TfidfTransformer().fit(bow_data)"
      ],
      "execution_count": null,
      "outputs": []
    },
    {
      "cell_type": "markdown",
      "metadata": {
        "id": "RFJy4HOc74nd"
      },
      "source": [
        "Show a sample message with weights calculated using TF-IDF transformer"
      ]
    },
    {
      "cell_type": "code",
      "metadata": {
        "id": "Zp6yiAeF6rXu"
      },
      "source": [
        "tfidf_sample = tfidf_transformer.transform(bow_sample_msg)\n",
        "print(tfidf_sample)"
      ],
      "execution_count": null,
      "outputs": []
    },
    {
      "cell_type": "markdown",
      "metadata": {
        "id": "nCcikAE48KXa"
      },
      "source": [
        "Transform all data using TF-IDF transformer"
      ]
    },
    {
      "cell_type": "code",
      "metadata": {
        "id": "bV24HTFR64iZ"
      },
      "source": [
        "data_tfidf = tfidf_transformer.transform(bow_data)\n",
        "np.shape(data_tfidf)"
      ],
      "execution_count": null,
      "outputs": []
    },
    {
      "cell_type": "markdown",
      "metadata": {
        "id": "Wv9RJEGONWXK"
      },
      "source": [
        "Split data into training and testing part"
      ]
    },
    {
      "cell_type": "code",
      "metadata": {
        "id": "SyO-ZhF6WA9S"
      },
      "source": [
        "X_train, X_test, y_train, y_test = train_test_split(data_tfidf, data_labels, test_size=0.25, random_state=0)"
      ],
      "execution_count": null,
      "outputs": []
    },
    {
      "cell_type": "markdown",
      "metadata": {
        "id": "xe1cXuwgNgZh"
      },
      "source": [
        "First attempt: use random forest classifier"
      ]
    },
    {
      "cell_type": "code",
      "metadata": {
        "id": "mLk7ZbswX6AE"
      },
      "source": [
        "rf_clf = RandomForestClassifier(n_estimators=250, random_state=0)\n",
        "rf_clf.fit(X_train, y_train)\n",
        "y_pred = rf_clf.predict(X_test)"
      ],
      "execution_count": null,
      "outputs": []
    },
    {
      "cell_type": "markdown",
      "metadata": {
        "id": "p9NABGHSNkW1"
      },
      "source": [
        "Second attempt: use XGBoost regressor"
      ]
    },
    {
      "cell_type": "code",
      "metadata": {
        "id": "pI3JkyiGR89L"
      },
      "source": [
        "xgb_clf = XGBRegressor(n_estimators=120, learning_rate=0.125)\n",
        "xgb_clf.fit(X_train, y_train)\n",
        "y_pred = xgb_clf.predict(X_test)"
      ],
      "execution_count": null,
      "outputs": []
    },
    {
      "cell_type": "markdown",
      "metadata": {
        "id": "UAInv3FwqiuV"
      },
      "source": [
        "Third attempt: use GridSearchCV classifier"
      ]
    },
    {
      "cell_type": "code",
      "metadata": {
        "id": "uLb7sUEynN73"
      },
      "source": [
        "param_grid = {'C': [0.1, 1, 10, 100],\n",
        "  'gamma': [1, 0.1, 0.01, 0.001, 0.0001],\n",
        "  'gamma':['scale', 'auto'],\n",
        "  'kernel': ['linear']}\n",
        "   \n",
        "gsc_clf = GridSearchCV(SVC(probability=True), param_grid, refit = True, verbose = 3, n_jobs=-1)\n",
        "gsc_clf.fit(X_train, y_train)\n",
        "y_pred = gsc_clf.predict(X_test)"
      ],
      "execution_count": null,
      "outputs": []
    },
    {
      "cell_type": "markdown",
      "metadata": {
        "id": "f-83-8BsNue3"
      },
      "source": [
        "Show classification results"
      ]
    },
    {
      "cell_type": "code",
      "metadata": {
        "id": "bbc5xgcJYfhM"
      },
      "source": [
        "print(confusion_matrix(y_test,(y_pred>0.5)))\n",
        "print(classification_report(y_test,(y_pred>0.5)))\n",
        "print(accuracy_score(y_test,(y_pred>0.5)))"
      ],
      "execution_count": null,
      "outputs": []
    },
    {
      "cell_type": "code",
      "metadata": {
        "id": "J9tD9yACG6M9"
      },
      "source": [
        "# function to predict messages based on model\n",
        "# (should return list containing prediction and label, ex. [0.008318834938108921, 'ham'])\n",
        "def predict_message(pred_text):\n",
        "  bow_pred_text = bow_transformer.transform([pred_text])\n",
        "  tfidf_pred_text = tfidf_transformer.transform(bow_pred_text)\n",
        "  pred = gsc_clf.predict_proba(tfidf_pred_text)[0]\n",
        "  prediction = [pred[1], 'ham' if pred[0] > 0.5 else 'spam']\n",
        "  return (prediction)\n",
        "\n",
        "pred_text = \"how are you doing today?\"\n",
        "\n",
        "prediction = predict_message(pred_text)\n",
        "print(prediction)"
      ],
      "execution_count": null,
      "outputs": []
    },
    {
      "cell_type": "code",
      "metadata": {
        "id": "Dxotov85SjsC"
      },
      "source": [
        "# Run this cell to test your function and model. Do not modify contents.\n",
        "def test_predictions():\n",
        "  test_messages = [\"how are you doing today\",\n",
        "                   \"sale today! to stop texts call 98912460324\",\n",
        "                   \"i dont want to go. can we try it a different day? available sat\",\n",
        "                   \"our new mobile video service is live. just install on your phone to start watching.\",\n",
        "                   \"you have won £1000 cash! call to claim your prize.\",\n",
        "                   \"i'll bring it tomorrow. don't forget the milk.\",\n",
        "                   \"wow, is your arm alright. that happened to me one time too\"\n",
        "                  ]\n",
        "\n",
        "  test_answers = [\"ham\", \"spam\", \"ham\", \"spam\", \"spam\", \"ham\", \"ham\"]\n",
        "  passed = True\n",
        "\n",
        "  for msg, ans in zip(test_messages, test_answers):\n",
        "    prediction = predict_message(msg)\n",
        "    if prediction[1] != ans:\n",
        "      passed = False\n",
        "\n",
        "  if passed:\n",
        "    print(\"You passed the challenge. Great job!\")\n",
        "  else:\n",
        "    print(\"You haven't passed yet. Keep trying.\")\n",
        "\n",
        "test_predictions()\n"
      ],
      "execution_count": null,
      "outputs": []
    }
  ]
}